{
 "cells": [
  {
   "cell_type": "markdown",
   "metadata": {},
   "source": [
    "# \"Modulo 5\"\n",
    "> \"Analisi DMRG del modello di Ising 1D\""
   ]
  },
  {
   "cell_type": "markdown",
   "metadata": {},
   "source": [
    "A differenza dei precedenti moduli in questa relazione non mi occuperò di studiare sistemi con interazioni a lunga distanza random poiché il DMRG si basa fondamentalmente su interazioni a primi vicini. Sono possibili estensioni per considerare interazioni a lungo raggio, ma richiedono un notevole sforzo sia di implementazione che computazionale.\n",
    "\n",
    "La **Density Matrix Renormalization Group** è una tecnica numerica iterativa che consente di trovare il ground state, ed eventualmente pochi altri stati eccitati, di un sistema quantistico a bassa dimensionalità in una maniera estremamente efficiente. \n",
    "È un metodo approssimato che si ispira alla rinormalizzazione numerica alla Wilson, ma il cui funzionamento si basa sull'*entanglement bipartito* per il ground state di $\\hat{H}$, condizione sufficiente per la validità dell'*Area Law*. Considerando uno stato pure $|\\psi⟩_{AB}$ di un sistema quantistico bipartito AB, questa proprietà, dimostrata per il caso unidimensionale e come congettura per il caso 2D, esprime la dipendenza lineare tra l'entropia di Von Neumann della partizione A e la dimensione del confine tra A e B.\n",
    "$$ S(\\rho_A) \\sim dim(bound(A|B))$$\n",
    "in cui \n",
    "$$\\rho_A = Tr_B(|\\psi⟩_{AB}⟨\\psi|)$$\n",
    "\n",
    "\n",
    "\n",
    "\n"
   ]
  },
  {
   "cell_type": "markdown",
   "metadata": {},
   "source": [
    "Una generica Hamiltoniana che soddisfa queste condizioni può essere scritta come:\n",
    "\n",
    "### $$ \\hat{H}=\\sum_{i=1}^L ( \\sum_\\alpha J_i^{(\\alpha)} \\hat{S}_i^{(\\alpha)} \\hat{T}_{i+1}^{(\\alpha)} +\\sum_\\beta B_i^{(\\beta)} \\hat{V}_i^{(\\beta)} ) $$\n",
    "\n",
    "L'Hamiltoniana del modello di Ising quantistico 1D rientra in questa forma:\n",
    "\n",
    "## $$ \\hat{H} = -\\sum_{i}^L \\sigma_i^z \\sigma_{i+1}^z + g \\sum_{i}^L \\sigma_i^x $$"
   ]
  },
  {
   "cell_type": "markdown",
   "metadata": {},
   "source": [
    "L'algoritmo del DMRG si articola in **alcuni** step:\n",
    "1. Si parte da un blocco $B(1,d)$, composto dal solo sito estremo di sinistra, di cui si definisce l'Hamiltoniana $\\hat{H}_B$, nel codice *BlockH*. Spazio di Hilbert di dimensione $d$.\n",
    "2. Si costruisce l'*Enlarged Block* aggiungendo al blocco precedente il sito adiacente destro e si costruisce l'hamiltoniana corrispondente $\\hat{H}_E$:\n",
    "$$ \\hat{H}_E = \\hat{H}_B \\otimes \\mathbb{1}_{sito} + \\mathbb{1}_B \\otimes \\hat{H}_{sito} + \\hat{H}_{B-sito} $$ Spazio di Hilbert di dimensione $d^2$.\n",
    "3. Si costruisce il *Super-block* aggiundendo al blocco precedente un blocco speculare, considerando il fatto che il sistema in esame è simmetrico per riflessione rispetto al centro della catena, il collegamento è dato dall'interazione dei due siti esterni aggiunti al passo precedente. L'Hamiltoniana del *Super-block* diventa:\n",
    "$$ \\hat{H}_{SB} = \\hat{H}_E \\otimes \\mathbb{1}_{E'} + \\mathbb{1}_E \\otimes \\hat{H}_{E'} + \\hat{H}_{E-E'} $$"
   ]
  },
  {
   "cell_type": "code",
   "execution_count": 3,
   "metadata": {},
   "outputs": [],
   "source": [
    "#collapse\n",
    "%matplotlib widget\n",
    "import matplotlib.pyplot as plt\n",
    "import numpy as np\n",
    "import scipy.sparse.linalg as ssl\n",
    "import scipy.sparse as ss"
   ]
  },
  {
   "cell_type": "code",
   "execution_count": 2,
   "metadata": {},
   "outputs": [
    {
     "data": {
      "application/vnd.jupyter.widget-view+json": {
       "model_id": "06dc68b567ca4c02b1d8b875c6c29e98",
       "version_major": 2,
       "version_minor": 0
      },
      "text/plain": [
       "Canvas(toolbar=Toolbar(toolitems=[('Home', 'Reset original view', 'home', 'home'), ('Back', 'Back to previous …"
      ]
     },
     "metadata": {},
     "output_type": "display_data"
    }
   ],
   "source": [
    "#%%time\n",
    "m=10\n",
    "NIter=100\n",
    "rep=10\n",
    "rep+=1\n",
    "gmax=2\n",
    "ling=np.linspace(0,gmax,rep)\n",
    "\n",
    "\n",
    "nrip=10\n",
    "\n",
    "#ling=ling[int(30*rep/100):]\n",
    "Evec=np.zeros(rep)\n",
    "Entropy=np.zeros(rep)\n",
    "ggg=0\n",
    "\n",
    "\n",
    "# inizialize local ops\n",
    "\n",
    "I=np.eye(2,2)\n",
    "Sz=np.array([[1, 0],[0,-1]])\n",
    "Sx=np.array([[0, 1],[1,0]])\n",
    "\n",
    "# initial blocks\n",
    "for gm in ling:\n",
    "    #ggg=0\n",
    "    Ent=0\n",
    "    for rip in range(nrip):\n",
    "        BlockSz = Sz\n",
    "        BlockSx = Sx\n",
    "        BlockI  = I\n",
    "        #BlockH  = gm*Sx\n",
    "        BlockH = np.random.default_rng().normal(gm, .8)*Sx\n",
    "        Energy = 0\n",
    "\n",
    "        for l in range(NIter):\n",
    "            SystSize = 2*l + 4\n",
    "\n",
    "            g=np.random.default_rng().normal(gm, .8)\n",
    "            #g=gm\n",
    "            \n",
    "        # Get the 2m-dimensional operators for the block + site\n",
    "\n",
    "            BlockH = np.kron(BlockH, I) + np.kron(BlockI, g*Sx) - np.kron(BlockSz, Sz) \n",
    "            BlockSz = np.kron(BlockI, Sz)\n",
    "            BlockSx = np.kron(BlockI, Sx)\n",
    "            BlockI  = np.kron(BlockI, I)\n",
    "\n",
    "        # HAMILTONIAN MATRIX for superblock\n",
    "            H_super = np.kron(BlockH, BlockI) + np.kron(BlockI, BlockH) - np.kron(BlockSz, BlockSz)\n",
    "            H_super = 0.5 * (H_super + H_super.T);  # ensure H is symmetric\n",
    "\n",
    "        # Diagonalizing the Hamiltonian\n",
    "            LastEnergy = Energy\n",
    "            Energy= ssl.eigsh(H_super,1,which='SA')[0] #[0]\n",
    "            Psi = ssl.eigsh(H_super,1,which='SA')[1].T #[0]\n",
    "            EnergyPerBond = (Energy - LastEnergy) / 2\n",
    "            Ener2 = Energy / SystSize\n",
    "\n",
    "\n",
    "        # Sigma = Psi' *kron(BlockSz,BlockSz) * Psi; % n.n. ZZ correlation function\n",
    "\n",
    "        # Form the reduced density matrix\n",
    "            nr=Psi.size\n",
    "            Dim = int(np.sqrt(nr))\n",
    "            PsiMatrix = np.reshape(Psi,(Dim,Dim))\n",
    "            Rho = PsiMatrix @ PsiMatrix.T\n",
    "\n",
    "        # Diagonalize the density matrix\n",
    "            D,V = np.linalg.eigh(Rho)\n",
    "            D=D[::-1]  # descending\n",
    "            Index=np.arange(Dim)\n",
    "            Index=Index[::-1]\n",
    "            V=V[:,Index]\n",
    "\n",
    "        # Construct the truncation operator\n",
    "            NKeep = min(D.size, m)\n",
    "\n",
    "            Omatr = V[:,:NKeep]\n",
    "\n",
    "            TruncationError = 1 - sum(D[:NKeep])\n",
    "\n",
    "\n",
    "                # Transform the block operators into the truncated basis\n",
    "            BlockH  = Omatr.T @ BlockH  @ Omatr\n",
    "            BlockSz = Omatr.T @ BlockSz @ Omatr\n",
    "            BlockSx = Omatr.T @ BlockSx @ Omatr\n",
    "            BlockI  = Omatr.T @ BlockI  @ Omatr\n",
    "\n",
    "\n",
    "            \n",
    "        #print(SystSize, Energy, EnergyPerBond, Ener2, TruncationError)\n",
    "\n",
    "        Ent+=-sum(D[:NKeep]*np.log(D[:NKeep]))\n",
    "        #Evec[ggg]=Energy\n",
    "    Entropy[ggg]=Ent/nrip\n",
    "    ggg+=1\n",
    "    \n",
    "    \n",
    "    #Spectrum=ssl.eigsh(H_super)[0]\n",
    "    \n",
    "plt.plot(ling,Entropy)\n",
    "plt.show()"
   ]
  },
  {
   "cell_type": "code",
   "execution_count": 35,
   "metadata": {},
   "outputs": [
    {
     "data": {
      "text/plain": [
       "-0.19960819322372814"
      ]
     },
     "execution_count": 35,
     "metadata": {},
     "output_type": "execute_result"
    }
   ],
   "source": [
    "np.random.default_rng().normal(gm, .2)"
   ]
  },
  {
   "cell_type": "code",
   "execution_count": 41,
   "metadata": {},
   "outputs": [
    {
     "data": {
      "text/plain": [
       "(1, 200)"
      ]
     },
     "execution_count": 41,
     "metadata": {},
     "output_type": "execute_result"
    }
   ],
   "source": [
    "Psi.shape"
   ]
  },
  {
   "cell_type": "code",
   "execution_count": null,
   "metadata": {},
   "outputs": [],
   "source": [
    "EMIndex=np.argmax(Entropy)+1\n",
    "ling=np.linspace(0,gmax,rep)\n",
    "ling=(ling-EMIndex/rep*gmax)**3+(EMIndex/rep*gmax)**3\n",
    "Evec=np.zeros(rep)\n",
    "Entropy=np.zeros(rep)\n",
    "ggg=0\n",
    "    \n",
    "for g in ling:\n",
    "    BlockSz = Sz\n",
    "    BlockSx = Sx\n",
    "    BlockI  = I\n",
    "    BlockH  = g*Sx\n",
    "    Energy = 0\n",
    "\n",
    "    #for g in ling:\n",
    "\n",
    "    for l in range(NIter):\n",
    "        SystSize = 2*l + 4\n",
    "\n",
    "    # Get the 2m-dimensional operators for the block + site\n",
    "\n",
    "        BlockH = np.kron(BlockH, I) + np.kron(BlockI, g*Sx) - np.kron(BlockSz, Sz) \n",
    "        BlockSz = np.kron(BlockI, Sz)\n",
    "        BlockSx = np.kron(BlockI, Sx)\n",
    "        BlockI  = np.kron(BlockI, I)\n",
    "\n",
    "    # HAMILTONIAN MATRIX for superblock\n",
    "        H_super = np.kron(BlockH, BlockI) + np.kron(BlockI, BlockH) - np.kron(BlockSz, BlockSz)\n",
    "        H_super = 0.5 * (H_super + H_super.T);  # ensure H is symmetric\n",
    "\n",
    "    # Diagonalizing the Hamiltonian\n",
    "        LastEnergy = Energy\n",
    "        Energy= ssl.eigsh(H_super,1,which='SA')[0] #[0]\n",
    "        Psi = ssl.eigsh(H_super,1,which='SA')[1].T #[0]\n",
    "        EnergyPerBond = (Energy - LastEnergy) / 2\n",
    "        Ener2 = Energy / SystSize\n",
    "\n",
    "\n",
    "    # Sigma = Psi' *kron(BlockSz,BlockSz) * Psi; % n.n. ZZ correlation function\n",
    "\n",
    "    # Form the reduced density matrix\n",
    "        nr=Psi.size\n",
    "        Dim = int(np.sqrt(nr))\n",
    "        PsiMatrix = np.reshape(Psi,(Dim,Dim))\n",
    "        Rho = PsiMatrix @ PsiMatrix.T\n",
    "\n",
    "    # Diagonalize the density matrix\n",
    "        D,V = np.linalg.eigh(Rho)\n",
    "        D=D[::-1]  # descending\n",
    "        Index=np.arange(Dim)\n",
    "        Index=Index[::-1]\n",
    "        V=V[:,Index]\n",
    "\n",
    "    # Construct the truncation operator\n",
    "        NKeep = min(D.size, m)\n",
    "        Ent=-sum(D[:NKeep]*np.log(D[:NKeep]))\n",
    "        Omatr = V[:,:NKeep]\n",
    "        TruncationError = 1 - sum(D[:NKeep])\n",
    "\n",
    "    # Transform the block operators into the truncated basis\n",
    "        BlockH  = Omatr.T @ BlockH  @ Omatr\n",
    "        BlockSz = Omatr.T @ BlockSz @ Omatr\n",
    "        BlockSx = Omatr.T @ BlockSx @ Omatr\n",
    "        BlockI =  Omatr.T @ BlockI  @ Omatr\n",
    "\n",
    "        #print(SystSize, Energy, EnergyPerBond, Ener2, TruncationError)\n",
    "    \n",
    "    Evec[ggg]=Energy\n",
    "    Entropy[ggg]=Ent\n",
    "    ggg+=1"
   ]
  },
  {
   "cell_type": "code",
   "execution_count": null,
   "metadata": {},
   "outputs": [],
   "source": [
    "    LBlockH = BlockH\n",
    "    RBlockH = BlockH\n",
    "    \n",
    "    for l in range(NIter2):\n",
    "        \n",
    "        LBlockH = np.kron(BlockH, I) + np.kron(BlockI, g*Sx) - np.kron(BlockSz, Sz) \n",
    "        BlockSz = np.kron(BlockI, Sz)\n",
    "        BlockSx = np.kron(BlockI, Sx)\n",
    "        BlockI  = np.kron(BlockI, I)\n",
    "        \n",
    "        # HAMILTONIAN MATRIX for superblock\n",
    "        LH_super = np.kron(LBlockH, BlockI) + np.kron(BlockI, BlockH) - np.kron(BlockSz, BlockSz)\n",
    "        H_super = 0.5 * (H_super + H_super.T);  # ensure H is symmetric\n",
    "        "
   ]
  },
  {
   "cell_type": "code",
   "execution_count": null,
   "metadata": {},
   "outputs": [],
   "source": [
    "# Form the reduced density matrix\n",
    "        nr=Psi.size\n",
    "        Dim = int(np.sqrt(nr))\n",
    "        PsiMatrix = np.reshape(Psi,(Dim,Dim))\n",
    "        Rho = PsiMatrix @ PsiMatrix.T\n",
    "\n",
    "    # Diagonalize the density matrix\n",
    "        D,V = np.linalg.eigh(Rho)\n",
    "        D=D[::-1]  # descending\n",
    "        Index=np.arange(Dim)\n",
    "        Index=Index[::-1]\n",
    "        V=V[:,Index]\n",
    "\n",
    "    # Construct the truncation operator\n",
    "        NKeep = min(D.size, m)\n",
    "        \n",
    "        Omatr = V[:,:NKeep]\n",
    "        \n",
    "        TruncationError = 1 - sum(D[:NKeep])\n",
    "\n",
    "    # Transform the block operators into the truncated basis\n",
    "        BlockH  = Omatr.T @ LBlockH  @ Omatr\n",
    "        BlockSz = Omatr.T @ LBlockSz @ Omatr\n",
    "        BlockSx = Omatr.T @ LBlockSx @ Omatr\n",
    "        BlockI  = Omatr.T @ LBlockI  @ Omatr\n",
    "\n"
   ]
  }
 ],
 "metadata": {
  "kernelspec": {
   "display_name": "Python 3",
   "language": "python",
   "name": "python3"
  },
  "language_info": {
   "codemirror_mode": {
    "name": "ipython",
    "version": 3
   },
   "file_extension": ".py",
   "mimetype": "text/x-python",
   "name": "python",
   "nbconvert_exporter": "python",
   "pygments_lexer": "ipython3",
   "version": "3.7.4"
  }
 },
 "nbformat": 4,
 "nbformat_minor": 2
}
