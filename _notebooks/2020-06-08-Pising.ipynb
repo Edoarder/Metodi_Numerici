{
 "cells": [
  {
   "cell_type": "markdown",
   "metadata": {},
   "source": [
    "# \"Modulo 1\"\n",
    "> \"Analisi Monte-Carlo della termodinamica di network random\""
   ]
  },
  {
   "cell_type": "code",
   "execution_count": 16,
   "metadata": {},
   "outputs": [],
   "source": [
    "%matplotlib inline\n",
    "import matplotlib.pyplot as plt\n",
    "import numpy as np"
   ]
  },
  {
   "cell_type": "code",
   "execution_count": 17,
   "metadata": {},
   "outputs": [],
   "source": [
    "def initialstate(L,random=True,cold=+1):\n",
    "    if random:\n",
    "        state = 2*np.random.randint(2, size=L)-1\n",
    "    elif cold==1:\n",
    "        state = np.int_(np.ones(L))\n",
    "    elif cold==-1:\n",
    "        state = -np.int_(np.ones(L))\n",
    "    else:\n",
    "        return print(\"Put cold = +1 or -1\")\n",
    "    return state"
   ]
  },
  {
   "cell_type": "code",
   "execution_count": 18,
   "metadata": {},
   "outputs": [],
   "source": [
    "def mcmove(config, beta,A):\n",
    "    '''Monte Carlo move using Metropolis algorithm '''\n",
    "    con=config.copy()\n",
    "    N=con.size\n",
    "    for i in range(N):\n",
    "        a = np.random.randint(0, N)\n",
    "        s =  con[a]\n",
    "        cost=sum(-s*A[a,:]*con)-sum(s*A[a,:]*con)\n",
    "        if -cost < 0:\n",
    "            s = -s\n",
    "        elif np.random.rand() < np.exp(cost*beta):\n",
    "            s = -s\n",
    "        con[a] = s\n",
    "    return con"
   ]
  },
  {
   "cell_type": "code",
   "execution_count": 19,
   "metadata": {},
   "outputs": [],
   "source": [
    "def calcEnergy(config):\n",
    "    '''Energy of a given configuration'''\n",
    "    energy = 0\n",
    "    for i in range(len(config)):\n",
    "        S = config[i]\n",
    "        energy += sum(-S*A[i]*config)\n",
    "    return energy/config.size/4\n",
    "\n",
    "\n",
    "def calcMag(config):\n",
    "    '''Magnetization of a given configuration'''\n",
    "    mag = np.sum(config)\n",
    "    return mag/N"
   ]
  },
  {
   "cell_type": "code",
   "execution_count": 20,
   "metadata": {},
   "outputs": [
    {
     "data": {
      "text/plain": [
       "<16x16 sparse matrix of type '<class 'numpy.int64'>'\n",
       "\twith 32 stored elements in Compressed Sparse Row format>"
      ]
     },
     "execution_count": 20,
     "metadata": {},
     "output_type": "execute_result"
    }
   ],
   "source": [
    "## Matrice di adiacenza per Ising 2D di lato L\n",
    "L=4\n",
    "N=L**2\n",
    "A=np.zeros((N,N))\n",
    "for i in range(N):\n",
    "    A[i,(i+1)%N] =-1\n",
    "    A[i,(i-1)%N] =-1\n",
    "    A[i,(i+L)%N] =-1\n",
    "    A[i,(i-L)%N] =-1\n",
    "#A=np.int_(A)\n",
    "\n",
    "import networkx as nx\n",
    "#N=10\n",
    "B=nx.adjacency_matrix(nx.watts_strogatz_graph(N, 2, .1))\n",
    "\n",
    "#A=A-(np.eye(N)*B)\n",
    "B"
   ]
  },
  {
   "cell_type": "code",
   "execution_count": 21,
   "metadata": {},
   "outputs": [],
   "source": [
    "A=-np.ones((N,N))"
   ]
  },
  {
   "cell_type": "code",
   "execution_count": 22,
   "metadata": {
    "scrolled": false
   },
   "outputs": [
    {
     "data": {
      "image/png": "[encoded data removed]",
      "text/plain": [
       "<Figure size 432x288 with 4 Axes>"
      ]
     },
     "metadata": {
      "needs_background": "light"
     },
     "output_type": "display_data"
    }
   ],
   "source": [
    "meas=20\n",
    "dec=10\n",
    "tn=20\n",
    "ma=np.zeros(tn)\n",
    "en=np.zeros(tn)\n",
    "xi=np.zeros(tn)\n",
    "cs=np.zeros(tn)\n",
    "ma2=np.zeros(tn)\n",
    "en2=np.zeros(tn)\n",
    "m2=np.zeros(meas)\n",
    "e2=np.zeros(meas)\n",
    "mm=0\n",
    "ee=0\n",
    "\n",
    "for t in np.arange(tn):\n",
    "    state=np.ones((meas,N))\n",
    "    state[0]=initialstate(N,random=False,cold=+1)\n",
    "    #state[0,:]=np.ones(N)\n",
    "    e=np.zeros(meas)\n",
    "    m=np.zeros(meas)\n",
    "    m[0]=calcMag(state[0])\n",
    "\n",
    "    for i in range(meas-1):       # misure\n",
    "        for j in range(dec):      # decorrelazione\n",
    "        #print(str(i)+\": \"+str(state))\n",
    "            state[i+1,:]=mcmove(state[i,:], t/(tn/5), B).copy()\n",
    "        m[i+1]=calcMag(state[i+1,:])\n",
    "        e[i+1]=calcEnergy(state[i+1,:])\n",
    "        m2[i+1]=m[i+1]*m[i+1]\n",
    "        e2[i+1]=e[i+1]*e[i+1]\n",
    "    m=m[meas//10:]\n",
    "    ma[t]=sum(m)/meas\n",
    "    ma2[t]=sum(m2)/meas\n",
    "    en[t]=sum(e)/meas\n",
    "    en2[t]=sum(e2)/meas\n",
    "    xi[t]=ma2[t]-ma[t-1]**2\n",
    "    cs[t]=en2[t]-en[t-1]**2\n",
    "\n",
    "    \n",
    "tempe=np.arange(tn)/(tn/5)+1\n",
    "plt.figure()\n",
    "\n",
    "plt.subplot(221)\n",
    "plt.scatter(tempe,abs(ma))\n",
    "plt.xlabel('beta (1/T)')\n",
    "plt.ylabel('Magnetization')\n",
    "\n",
    "plt.subplot(222)\n",
    "plt.scatter(tempe,en)\n",
    "plt.xlabel('beta (1/T)')\n",
    "plt.ylabel('Energy')\n",
    "\n",
    "plt.subplot(223)\n",
    "plt.scatter(tempe,(xi))\n",
    "plt.xlabel('beta (1/T)')\n",
    "plt.ylabel('Susceptibility')\n",
    "\n",
    "plt.subplot(224)\n",
    "plt.scatter(tempe,(cs))\n",
    "plt.xlabel('beta (1/T)')\n",
    "plt.ylabel('Specific heat capacity')\n",
    "\n",
    "\n",
    "plt.show()"
   ]
  },
  {
   "cell_type": "code",
   "execution_count": null,
   "metadata": {},
   "outputs": [],
   "source": []
  },
  {
   "cell_type": "code",
   "execution_count": null,
   "metadata": {},
   "outputs": [],
   "source": []
  }
 ],
 "metadata": {
  "kernelspec": {
   "display_name": "Python 3",
   "language": "python",
   "name": "python3"
  },
  "language_info": {
   "codemirror_mode": {
    "name": "ipython",
    "version": 3
   },
   "file_extension": ".py",
   "mimetype": "text/x-python",
   "name": "python",
   "nbconvert_exporter": "python",
   "pygments_lexer": "ipython3",
   "version": "3.7.4"
  }
 },
 "nbformat": 4,
 "nbformat_minor": 2
}
