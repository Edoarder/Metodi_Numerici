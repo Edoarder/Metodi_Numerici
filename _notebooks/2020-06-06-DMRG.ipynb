{
 "cells": [
  {
   "cell_type": "markdown",
   "metadata": {},
   "source": [
    "# \"Modulo 5\"\n",
    "> \"Analisi DMRG del modello di Heisenberg XXZ 1D\""
   ]
  },
  {
   "cell_type": "code",
   "execution_count": 117,
   "metadata": {},
   "outputs": [],
   "source": [
    "%matplotlib inline\n",
    "import matplotlib.pyplot as plt\n",
    "import numpy as np\n",
    "import scipy.sparse.linalg as ssl\n",
    "from numpy.linalg import multi_dot"
   ]
  },
  {
   "cell_type": "markdown",
   "metadata": {},
   "source": [
    "## $$ H=-\\sum [S_x S_x + S_y S_y +\\delta S_z S_z]$$"
   ]
  },
  {
   "cell_type": "code",
   "execution_count": 320,
   "metadata": {},
   "outputs": [
    {
     "name": "stdout",
     "output_type": "stream",
     "text": [
      "4 [-1.11803399] [-0.55901699] [-0.2795085] 0.0\n",
      "6 [-1.7469796] [-0.31447281] [-0.29116327] 4.440892098500626e-16\n",
      "8 [-2.37938524] [-0.31620282] [-0.29742316] 5.719729767594828e-07\n",
      "10 [-3.01332844] [-0.3169716] [-0.30133284] 7.165868320946345e-07\n",
      "12 [-3.64809254] [-0.31738205] [-0.30400771] 3.7881702987796473e-06\n",
      "14 [-4.28332063] [-0.31761404] [-0.30595147] 4.350085748616728e-06\n",
      "16 [-4.91886385] [-0.31777161] [-0.30742899] 9.750853244172575e-06\n",
      "18 [-5.5545781] [-0.31785712] [-0.30858767] 1.0145299359498594e-05\n",
      "20 [-6.19045287] [-0.31793739] [-0.30952264] 1.7108358645989696e-05\n",
      "22 [-6.82638355] [-0.31796534] [-0.31029016] 1.6440535244632848e-05\n"
     ]
    }
   ],
   "source": [
    "Delta=0\n",
    "m=10\n",
    "NIter=10\n",
    "\n",
    "# inizialize local ops\n",
    "\n",
    "I=np.eye(2,2)\n",
    "Sz=np.array([[0.5, 0],[0,-0.5]])\n",
    "Sp=np.array([[0, 0],[1,0]])\n",
    "Sm=np.array([[0, 1],[0,0]])\n",
    "\n",
    "# initial blocks\n",
    "\n",
    "BlockSz = Sz\n",
    "BlockSp = Sp\n",
    "BlockSm = Sm\n",
    "BlockI  = I\n",
    "BlockH  = np.zeros((2,2))\n",
    "Energy = 0\n",
    "\n",
    "\n",
    "for l in range(NIter):\n",
    "    SystSize = 2*l + 4\n",
    "    \n",
    "# Get the 2m-dimensional operators for the block + site\n",
    "\n",
    "    BlockH = np.kron(BlockH, I) - Delta * np.kron(BlockSz, Sz) + 0.5 * ( np.kron(BlockSp, Sm) + np.kron(BlockSm, Sp) )\n",
    "    BlockSz = np.kron(BlockI, Sz)\n",
    "    BlockSp = np.kron(BlockI, Sp)\n",
    "    BlockSm = np.kron(BlockI, Sm)\n",
    "    BlockI  = np.kron(BlockI, I)\n",
    "    \n",
    "# HAMILTONIAN MATRIX forsuperblock\n",
    "    H_super = np.kron(BlockH, BlockI) + np.kron(BlockI, BlockH) - Delta * np.kron(BlockSz, BlockSz) + 0.5 * ( np.kron(BlockSp, BlockSm) + np.kron(BlockSm, BlockSp) )  \n",
    "    H_super = 0.5 * (H_super + H_super.T);  # ensure H is symmetric\n",
    "    \n",
    "# Diagonalizing the Hamiltonian\n",
    "    LastEnergy = Energy\n",
    "    Energy= ssl.eigsh(H_super,1,which='SA')[0]#[0]\n",
    "    Psi = ssl.eigsh(H_super,1,which='SA')[1].T#[0]\n",
    "    EnergyPerBond = (Energy - LastEnergy) / 2\n",
    "    Ener2 = Energy / SystSize\n",
    "    \n",
    "# Sigma = Psi' *kron(BlockSz,BlockSz) * Psi; % n.n. ZZ correlation function\n",
    "\n",
    "# Form the reduced density matrix\n",
    "    nr=Psi.size\n",
    "    Dim = int(np.sqrt(nr))\n",
    "    PsiMatrix = np.reshape(Psi,(Dim,Dim))\n",
    "    Rho = np.dot(PsiMatrix, PsiMatrix.T)\n",
    "    \n",
    "# Diagonalize the density matrix\n",
    "    D,V = np.linalg.eigh(Rho)\n",
    "    #V=V.T\n",
    "    D=D[::-1]  # descending\n",
    "    Index=np.arange(Dim)\n",
    "    Index=Index[::-1]\n",
    "    V=V[:,Index]\n",
    "\n",
    "# Construct the truncation operator\n",
    "    NKeep = min(D.size, m)\n",
    "    Omatr = V[:,:NKeep]\n",
    "    TruncationError = 1 - sum(D[:NKeep])\n",
    "    \n",
    "# Transform the block operators into the truncated basis\n",
    "    BlockH  = multi_dot([Omatr.T, BlockH, Omatr])\n",
    "    BlockSz = multi_dot([Omatr.T, BlockSz, Omatr])\n",
    "    BlockSp = multi_dot([Omatr.T, BlockSp, Omatr])\n",
    "    BlockSm = multi_dot([Omatr.T, BlockSm, Omatr])\n",
    "    BlockI =  multi_dot([Omatr.T, BlockI, Omatr])\n",
    "    \n",
    "    print(SystSize, Energy, EnergyPerBond, Ener2, TruncationError)\n",
    "    \n",
    "#Spectrum=ssl.eigsh(H_super)[0]"
   ]
  },
  {
   "cell_type": "code",
   "execution_count": null,
   "metadata": {},
   "outputs": [],
   "source": []
  }
 ],
 "metadata": {
  "kernelspec": {
   "display_name": "Python 3",
   "language": "python",
   "name": "python3"
  },
  "language_info": {
   "codemirror_mode": {
    "name": "ipython",
    "version": 3
   },
   "file_extension": ".py",
   "mimetype": "text/x-python",
   "name": "python",
   "nbconvert_exporter": "python",
   "pygments_lexer": "ipython3",
   "version": "3.7.4"
  }
 },
 "nbformat": 4,
 "nbformat_minor": 2
}
